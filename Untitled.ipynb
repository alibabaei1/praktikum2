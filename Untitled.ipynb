{
 "cells": [
  {
   "cell_type": "code",
   "execution_count": 28,
   "metadata": {
    "collapsed": false
   },
   "outputs": [
    {
     "name": "stdout",
     "output_type": "stream",
     "text": [
      "[ 0.68976003  0.9001953   0.84174106  0.81446241  0.98982513  0.88071055\n",
      "  0.98592818  1.11452751  0.67027529]\n",
      "[ 0.885  1.155  1.08   1.045  1.27   1.13   1.265  1.43   0.86 ]\n"
     ]
    }
   ],
   "source": [
    "%matplotlib inline\n",
    "\n",
    "import numpy as np\n",
    "import math\n",
    "import matplotlib.pyplot as plt\n",
    "from scipy import stats\n",
    "\n",
    "\n",
    "def BS(I0,I180):\n",
    "    return 0.716 * 1.256 * 10**(-6) * 130 * (I0+I180) / (2*0.15)\n",
    "def BE(I0,I180):\n",
    "    return 0.716 * 1.256 * 10**(-6) * 130 * (-I0+I180) / (2*0.15)\n",
    "#BS definiert als das magnetfeld der Spule wobei \n",
    "#I der strom und I180 der strom um 180 gerad \n",
    "#gedreht ist\n",
    "def IS(I0,I180):\n",
    "    return (I0+I180)/2\n",
    "def DeltaBS(I0,I180):\n",
    "    return (DeltaR)\n",
    "\n",
    "\n",
    "I0 = np.array([0.72 , 1.11 , 1.06 , 1 , 1.24 , 1.1 , 1.23 , 1.48 , 0.84])\n",
    "I180 = np.array([1.05 , 1.2 , 1.1 , 1.09 , 1.3 , 1.16 , 1.3 , 1.38 , 0.88])\n",
    "\n",
    "print BS(I,I180) *1000\n",
    "print IS(I0,I180)"
   ]
  },
  {
   "cell_type": "code",
   "execution_count": null,
   "metadata": {
    "collapsed": false
   },
   "outputs": [],
   "source": []
  }
 ],
 "metadata": {
  "kernelspec": {
   "display_name": "Python 2",
   "language": "python",
   "name": "python2"
  },
  "language_info": {
   "codemirror_mode": {
    "name": "ipython",
    "version": 2
   },
   "file_extension": ".py",
   "mimetype": "text/x-python",
   "name": "python",
   "nbconvert_exporter": "python",
   "pygments_lexer": "ipython2",
   "version": "2.7.10"
  }
 },
 "nbformat": 4,
 "nbformat_minor": 0
}
