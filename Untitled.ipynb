{
 "cells": [
  {
   "cell_type": "code",
   "execution_count": 108,
   "metadata": {
    "collapsed": false
   },
   "outputs": [],
   "source": [
    "%matplotlib inline\n",
    "\n",
    "import numpy as np\n",
    "import math\n",
    "import matplotlib.pyplot as plt\n",
    "from scipy import stats\n",
    "\n",
    "\n",
    "I0 = np.array([0.84,0.72 , 1.11, 1.06, 0.95 , 1 , 1.24 , 1.1 , 1.23 , 1.48])\n",
    "I180 = np.array([ 0.88, 0.76, 1.2 ,1.1,1.05 , 1.09 , 1.3 , 1.16 , 1.3 , 1.38])\n",
    "r= np.array([0.092,0.1185,0.08,0.093,0.1065,0.1065,0.0935,0.1140,0.1045,0.0955])\n",
    "\n",
    "\n",
    "\n",
    "\n",
    "def BS(I0,I180):\n",
    "    return 716 * 1.256 * 10**(-6) * 130 * (I0+I180) / (2*0.15)\n",
    "def BE(I0,I180):\n",
    "    return 716 * 1.256 * 10**(-6) * 130 * (-I0+I180) / (2*0.15)\n",
    "\n",
    "#BS definiert als das magnetfeld der Spule wobei \n",
    "#I der strom und I180 der strom um 180 gerad \n",
    "#gedreht ist\n",
    "\n",
    "\n",
    "\n",
    "\n",
    "\n",
    "#def IS(I0,I180):\n",
    " #   return (I0+I180)/2\n",
    "\n",
    "\n",
    "def DeltaBS(I0,I180):\n",
    "    return 2*((0.01)*716 * 1.256 * 10**(-6) * 130  / (2*0.15))**2\n",
    "# delta I und I180 ist hier 0,01 A genommen und delta r ist nicht fehler behaftet\n",
    "def DeltaBE(I0,I180):\n",
    "    return DeltaBS(I0,I180)\n",
    "\n",
    "\n",
    "\n",
    "\n",
    "\n",
    "def rI2(r,IS):\n",
    "     return (r*(I0+I180) /2)**2\n",
    "    \n",
    "\n",
    "def DeltarI2(r,IS):\n",
    "    return ((0.0001*2*r*((I0+I180) /2)**2)**2 + (0.01*(I0+I180)*r**2)**2)**(1/2)\n",
    "    \n",
    "\n"
   ]
  },
  {
   "cell_type": "code",
   "execution_count": 109,
   "metadata": {
    "collapsed": true
   },
   "outputs": [],
   "source": [
    "u=np.array([100,120,140,150,161,170,200,220,235,250])"
   ]
  },
  {
   "cell_type": "code",
   "execution_count": 142,
   "metadata": {
    "collapsed": false
   },
   "outputs": [
    {
     "name": "stdout",
     "output_type": "stream",
     "text": [
      "parameter 0:     11601.502 +- 169.972\n",
      "parameter 1:     31.758 +- 2.205\n"
     ]
    },
    {
     "data": {
      "text/plain": [
       "<Container object of 3 artists>"
      ]
     },
     "execution_count": 142,
     "metadata": {},
     "output_type": "execute_result"
    },
    {
     "data": {
      "image/png": "[encoded data removed]",
      "text/plain": [
       "<matplotlib.figure.Figure at 0x7f0aa3d02210>"
      ]
     },
     "metadata": {},
     "output_type": "display_data"
    }
   ],
   "source": [
    "xdata = rI2(r,IS)\n",
    "ydata = u\n",
    "sigma = DeltarI2(r,IS)\n",
    "\n",
    "def f(x,a,b):\n",
    "    return a*x + b\n",
    "def chi2(x, y, s, f, a, b):\n",
    "    chi = (y - f(x,a,b))/s\n",
    "    return np.sum(chi**2)\n",
    "x0    = np.array([1.0, 0.0])\n",
    "fitParams, fitCovariances = optimization.curve_fit(f, xdata, ydata, x0, sigma)\n",
    "slope     = fitParams[0]\n",
    "intercept = fitParams[1]\n",
    "fitErrors = np.sqrt(np.diag(fitCovariances))\n",
    "slope_std_err = fitErrors[0]\n",
    "intercept_std_err = fitErrors[1]\n",
    "\n",
    "thischi2=chi2(xdata,ydata,sigma,f,fitParams[0],fitParams[1])\n",
    "\n",
    "ndf = len(ydata)-len(fitParams)\n",
    "perrScaleFactor = 1./np.sqrt(thischi2/ndf)\n",
    "fitCovariances = fitCovariances*perrScaleFactor\n",
    "fitErrors = np.sqrt(np.diag(fitCovariances))\n",
    "for i in range(0,2):\n",
    "    print('parameter {0}:     {1:.3f} +- {2:.3f}'.format(i,fitParams[i], fitErrors[i]))\n",
    "slope_std_err = fitErrors[0]\n",
    "intercept_std_err = fitErrors[1]\n",
    "\n",
    "\n",
    "fig = plt.figure()\n",
    "ax  = fig.add_subplot(111)\n",
    "\n",
    "formulaText = '$e/m=\\frac{U}{r^2I^2}$' \n",
    "ax.text(0.75,0.1, formulaText, verticalalignment='bottom', horizontalalignment='right', transform=ax.transAxes, fontsize=20)\n",
    "\n",
    "# Die Achsen brauchen auf jeden Fall eine Beschriftung\n",
    "plt.ylabel('$U [V]$', fontsize = 16)\n",
    "plt.xlabel('$(rI)^2 [m^2A^2]$', fontsize = 16)\n",
    "plt.xlim(0,0.024)\n",
    "\n",
    "# Plotte die Daten als rote Punkte mit vertikalen Fehlerbalken\n",
    "t = np.arange(xdata[0]-0.001,xdata[-1]+0.001, 0.002)\n",
    "plt.plot(t,f(t,slope,intercept))\n",
    "plt.errorbar(xdata, ydata, sigma, fmt='ro')"
   ]
  },
  {
   "cell_type": "code",
   "execution_count": 115,
   "metadata": {
    "collapsed": false
   },
   "outputs": [
    {
     "name": "stdout",
     "output_type": "stream",
     "text": [
      "parameter 0:     11601.502 +- 169.972\n",
      "parameter 1:     31.758 +- 2.205\n"
     ]
    },
    {
     "data": {
      "text/plain": [
       "<Container object of 3 artists>"
      ]
     },
     "execution_count": 115,
     "metadata": {},
     "output_type": "execute_result"
    },
    {
     "data": {
      "image/png": "[encoded data removed]",
      "text/plain": [
       "<matplotlib.figure.Figure at 0x7f0aa44a7090>"
      ]
     },
     "metadata": {},
     "output_type": "display_data"
    }
   ],
   "source": [
    "%matplotlib inline\n",
    "\n",
    "import numpy as np\n",
    "import math\n",
    "import matplotlib.pyplot as plt\n",
    "import scipy.optimize as optimization\n",
    "\n",
    "# deklariere eine neue Funktion\n",
    "def f(x,a,b):\n",
    "    return a*x + b\n",
    "\n",
    "def chi2(x, y, s, f, a, b):\n",
    "    chi = (y - f(x,a,b))/s\n",
    "    return np.sum(chi**2)\n",
    "\n",
    "# Ihre Messdaten kommen hier hin\n",
    "xdata = rI2(r,IS)\n",
    "ydata = u\n",
    "sigma = DeltarI2(r,IS)\n",
    "#sigma = np.array([0.4,0.5,0.6,0.7,0.8,0.9])\n",
    "\n",
    "# Startwerte fuer die Parameterbestimmung\n",
    "x0    = np.array([1.0, 0.0])\n",
    "\n",
    "fitParams, fitCovariances = optimization.curve_fit(f, xdata, ydata, x0, sigma)\n",
    "slope     = fitParams[0]\n",
    "intercept = fitParams[1]\n",
    "fitErrors = np.sqrt(np.diag(fitCovariances))\n",
    "slope_std_err = fitErrors[0]\n",
    "\n",
    "thischi2=chi2(xdata,ydata,sigma,f,fitParams[0],fitParams[1])\n",
    "\n",
    "ndf = len(ydata)-len(fitParams)\n",
    "perrScaleFactor = 1./np.sqrt(thischi2/ndf)\n",
    "fitCovariances = fitCovariances*perrScaleFactor\n",
    "fitErrors = np.sqrt(np.diag(fitCovariances))\n",
    "for i in range(0,2):\n",
    "    print('parameter {0}:     {1:.3f} +- {2:.3f}'.format(i,fitParams[i], fitErrors[i]))\n",
    "slope_std_err = fitErrors[0]\n",
    "intercept_std_err = fitErrors[1]\n",
    "\n",
    "\n",
    "fig = plt.figure()\n",
    "ax = fig.add_subplot(111)\n",
    "\n",
    "formulaText1 = '$f(x)=%.2f x' % slope \n",
    "formulaText2 = '+ %.2f$' % intercept\n",
    "formulaText  = formulaText1 + formulaText2\n",
    "ax.text(0.95, 0.15, formulaText, verticalalignment='bottom', horizontalalignment='right', transform=ax.transAxes, fontsize=20)\n",
    "formulaText3 = '$a = %.2f' % slope\n",
    "formulaText4 = '\\pm %.2f' % slope_std_err\n",
    "formulaTextS = formulaText3 + formulaText4\n",
    "formulaText5 = ',\\,\\, b = %.2f' % intercept\n",
    "formulaText6 = '\\pm %.2f$' % intercept_std_err\n",
    "formulaTextI = formulaText5 + formulaText6\n",
    "formulaTextErrors = formulaTextS + formulaTextI\n",
    "ax.text(0.95, 0.05, formulaTextErrors, verticalalignment='bottom', horizontalalignment='right', transform=ax.transAxes, fontsize=20)\n",
    "formulaTextChi2 = '$\\chi^2=\\sum\\\\frac{(y_i-f(x_i,\\\\vec{a}))^2}{s_i^2}=%.2f$' % thischi2\n",
    "ax.text(0.95, 0.25, formulaTextChi2, verticalalignment='bottom', horizontalalignment='right', transform=ax.transAxes, fontsize=20)\n",
    "\n",
    "# Die Achsen brauchen auf jeden Fall eine Beschriftung\n",
    "plt.ylabel('$U [V]$', fontsize = 16)\n",
    "plt.xlabel('$(rI)^2 [m^2A^2]$', fontsize = 16)\n",
    "plt.xlim(0,0.024)\n",
    "\n",
    "# Plotte die Funktion \n",
    "t = np.arange(xdata[0]-0.5,xdata[-1]+0.5, 0.02)\n",
    "plt.plot(t,f(t,slope,intercept))\n",
    "plt.errorbar(xdata, ydata, sigma, fmt='ro')\n"
   ]
  }
 ],
 "metadata": {
  "kernelspec": {
   "display_name": "Python 2",
   "language": "python",
   "name": "python2"
  },
  "language_info": {
   "codemirror_mode": {
    "name": "ipython",
    "version": 2
   },
   "file_extension": ".py",
   "mimetype": "text/x-python",
   "name": "python",
   "nbconvert_exporter": "python",
   "pygments_lexer": "ipython2",
   "version": "2.7.10"
  }
 },
 "nbformat": 4,
 "nbformat_minor": 0
}
